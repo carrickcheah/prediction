{
 "cells": [
  {
   "cell_type": "markdown",
   "metadata": {},
   "source": [
    "# Data Exploration\n",
    "\n",
    "This notebook explores the inventory data to understand patterns and characteristics."
   ]
  },
  {
   "cell_type": "code",
   "execution_count": null,
   "metadata": {},
   "outputs": [],
   "source": [
    "import sys\n",
    "from pathlib import Path\n",
    "sys.path.insert(0, str(Path.cwd().parent / 'src'))\n",
    "\n",
    "import pandas as pd\n",
    "import numpy as np\n",
    "import matplotlib.pyplot as plt\n",
    "import seaborn as sns\n",
    "from datetime import datetime, timedelta\n",
    "\n",
    "from data.extractors.sales_extractor import SalesExtractor\n",
    "from data.extractors.purchase_extractor import PurchaseExtractor\n",
    "from data.extractors.job_order_extractor import JobOrderExtractor\n",
    "\n",
    "%matplotlib inline\n",
    "sns.set_style('whitegrid')"
   ]
  },
  {
   "cell_type": "markdown",
   "metadata": {},
   "source": [
    "## 1. Extract Data"
   ]
  },
  {
   "cell_type": "code",
   "execution_count": null,
   "metadata": {},
   "outputs": [],
   "source": [
    "# Set date range\n",
    "end_date = datetime.now().date()\n",
    "start_date = end_date - timedelta(days=90)\n",
    "\n",
    "# Extract data\n",
    "sales_extractor = SalesExtractor()\n",
    "sales_data = sales_extractor.extract(start_date, end_date)\n",
    "\n",
    "job_extractor = JobOrderExtractor()\n",
    "consumption_data = job_extractor.extract(start_date, end_date)\n",
    "\n",
    "print(f\"Sales data shape: {sales_data.shape}\")\n",
    "print(f\"Consumption data shape: {consumption_data.shape}\")"
   ]
  },
  {
   "cell_type": "markdown",
   "metadata": {},
   "source": [
    "## 2. Basic Statistics"
   ]
  },
  {
   "cell_type": "code",
   "execution_count": null,
   "metadata": {},
   "outputs": [],
   "source": [
    "# Top items by consumption\n",
    "if not consumption_data.empty:\n",
    "    top_items = consumption_data.groupby('item_id')['consumption'].sum().sort_values(ascending=False).head(20)\n",
    "    print(\"Top 20 items by consumption:\")\n",
    "    print(top_items)"
   ]
  },
  {
   "cell_type": "markdown",
   "metadata": {},
   "source": [
    "## 3. Time Series Visualization"
   ]
  },
  {
   "cell_type": "code",
   "execution_count": null,
   "metadata": {},
   "outputs": [],
   "source": [
    "# Plot daily consumption for top item\n",
    "if not consumption_data.empty and len(top_items) > 0:\n",
    "    top_item_id = top_items.index[0]\n",
    "    item_data = consumption_data[consumption_data['item_id'] == top_item_id].copy()\n",
    "    \n",
    "    plt.figure(figsize=(12, 6))\n",
    "    plt.plot(item_data['date'], item_data['consumption'])\n",
    "    plt.title(f'Daily Consumption for Item {top_item_id}')\n",
    "    plt.xlabel('Date')\n",
    "    plt.ylabel('Consumption')\n",
    "    plt.xticks(rotation=45)\n",
    "    plt.tight_layout()\n",
    "    plt.show()"
   ]
  }
 ],
 "metadata": {
  "kernelspec": {
   "display_name": "Python 3",
   "language": "python",
   "name": "python3"
  },
  "language_info": {
   "codemirror_mode": {
    "name": "ipython",
    "version": 3
   },
   "file_extension": ".py",
   "mimetype": "text/x-python",
   "name": "python",
   "nbconvert_exporter": "python",
   "pygments_lexer": "ipython3",
   "version": "3.12.0"
  }
 },
 "nbformat": 4,
 "nbformat_minor": 4
}